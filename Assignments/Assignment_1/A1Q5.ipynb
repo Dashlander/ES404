{
  "nbformat": 4,
  "nbformat_minor": 0,
  "metadata": {
    "colab": {
      "provenance": []
    },
    "kernelspec": {
      "name": "python3",
      "display_name": "Python 3"
    },
    "language_info": {
      "name": "python"
    }
  },
  "cells": [
    {
      "cell_type": "code",
      "execution_count": null,
      "metadata": {
        "colab": {
          "base_uri": "https://localhost:8080/"
        },
        "id": "M7GxC7nKMDl8",
        "outputId": "57ba9ab8-7796-432f-9c94-e04452fc62fc"
      },
      "outputs": [
        {
          "output_type": "stream",
          "name": "stdout",
          "text": [
            "Average path length: 2.0085162581290645\n",
            "Average clustering coefficient: 0.18258695671320277\n"
          ]
        }
      ],
      "source": [
        "import networkx as nx\n",
        "import random\n",
        "\n",
        "def snobbynet(N, p, q):\n",
        "    G = nx.Graph()\n",
        "    blue_nodes = range(N)\n",
        "    red_nodes = range(N, 2*N)\n",
        "    G.add_nodes_from(blue_nodes, color='blue')\n",
        "    G.add_nodes_from(red_nodes, color='red')\n",
        "\n",
        "    for u in G.nodes():\n",
        "        for v in G.nodes():\n",
        "            if u != v:\n",
        "                if G.nodes[u]['color'] == G.nodes[v]['color']:\n",
        "                    if G.nodes[u]['color'] == 'blue':\n",
        "                        if random.random() < p:\n",
        "                            G.add_edge(u, v)\n",
        "                    else:\n",
        "                        if random.random() < p:\n",
        "                            G.add_edge(u, v)\n",
        "                else:\n",
        "                    if random.random() < q:\n",
        "                        G.add_edge(u, v)\n",
        "\n",
        "    return G\n",
        "\n",
        "# Example usage:\n",
        "N = 1000\n",
        "p = 0.1\n",
        "q = 0.002\n",
        "G = snobbynet(N, p, q)\n",
        "apl = nx.average_shortest_path_length(G)\n",
        "acc = nx.average_clustering(G)\n",
        "print(\"Average path length:\", apl)\n",
        "print(\"Average clustering coefficient:\", acc)"
      ]
    }
  ]
}